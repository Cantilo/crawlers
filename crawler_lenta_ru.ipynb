{
 "cells": [
  {
   "cell_type": "markdown",
   "metadata": {},
   "source": [
    "Краулер для ленты ру"
   ]
  },
  {
   "cell_type": "markdown",
   "metadata": {},
   "source": [
    "еще не дописано, какие параметры мы выкусываем\n",
    "и это надо оформить, как функцию"
   ]
  },
  {
   "cell_type": "code",
   "execution_count": 1,
   "metadata": {
    "collapsed": true
   },
   "outputs": [],
   "source": [
    "import urllib.request as ur\n",
    "import requests\n",
    "import time\n",
    "import re"
   ]
  },
  {
   "cell_type": "code",
   "execution_count": 2,
   "metadata": {
    "collapsed": true
   },
   "outputs": [],
   "source": [
    "link = \"https://lenta.ru/news/2017/01/18/palmyraa/\"\n",
    "resp = ur.urlopen(link)\n",
    "html = resp.read().decode(\"utf-8\")\n",
    "resp.close()"
   ]
  },
  {
   "cell_type": "code",
   "execution_count": 3,
   "metadata": {
    "collapsed": true
   },
   "outputs": [],
   "source": [
    "#чтобы питон представлялся другим именем, он должен представиться не как как юзерагент питон, а как браузер\n",
    "#в заголовке, который отдает сервер, указано, что за тип файла, какая кодировка и тд\n",
    "\n",
    "headers = {'User-Agent': \"Mozilla/5.0 (compatible; MSIE 9.0; Windows NT 6.1; Trident/5.0)\"}\n",
    "html = resp.read().decode(\"utf-8\")\n",
    "resp.close()"
   ]
  },
  {
   "cell_type": "code",
   "execution_count": 4,
   "metadata": {
    "collapsed": true
   },
   "outputs": [],
   "source": [
    "link_main = \"https://lenta.ru/\"\n",
    "resp2 = ur.urlopen(link_main)\n",
    "html = resp2.read().decode(\"utf-8\")\n",
    "resp.close()\n",
    "#print(html)"
   ]
  },
  {
   "cell_type": "code",
   "execution_count": null,
   "metadata": {
    "collapsed": true
   },
   "outputs": [],
   "source": [
    "#и это то же самое что и\n",
    "import requests\n",
    "r = requests.get(\"https://lenta.ru/\")\n",
    "print (r.text)"
   ]
  },
  {
   "cell_type": "code",
   "execution_count": 5,
   "metadata": {
    "collapsed": true
   },
   "outputs": [],
   "source": [
    "hrefs = []\n",
    "#<a href=\"/news/\n",
    "#<a href=\"/articles/\n",
    "links_news = re.split('<a href=\"/news/', html)\n",
    "links_articles = re.split('<a href=\"/articles/', html)"
   ]
  },
  {
   "cell_type": "code",
   "execution_count": 6,
   "metadata": {
    "collapsed": true
   },
   "outputs": [],
   "source": [
    "for i in links_news:\n",
    "    urlnews = re.split('\">',i)[0]\n",
    "    urlnews = \"https://lenta.ru/news/\" + urlnews\n",
    "    hrefs.append(urlnews)"
   ]
  },
  {
   "cell_type": "code",
   "execution_count": 7,
   "metadata": {
    "collapsed": true
   },
   "outputs": [],
   "source": [
    "for i in links_articles:\n",
    "    urlarticles = re.split('\">',i)[0]\n",
    "    urlarticles = \"https://lenta.ru/articles/\" + urlarticles\n",
    "    hrefs.append(urlarticles)"
   ]
  },
  {
   "cell_type": "code",
   "execution_count": 8,
   "metadata": {
    "collapsed": false
   },
   "outputs": [
    {
     "name": "stdout",
     "output_type": "stream",
     "text": [
      "126\n",
      "https://lenta.ru/news/2017/01/20/ben/\n"
     ]
    }
   ],
   "source": [
    "print(len(hrefs))\n",
    "print(hrefs[2])"
   ]
  },
  {
   "cell_type": "code",
   "execution_count": 9,
   "metadata": {
    "collapsed": false
   },
   "outputs": [
    {
     "name": "stdout",
     "output_type": "stream",
     "text": [
      "https://lenta.ru/news/2017/01/20/cnnumad/\n",
      "https://lenta.ru/news/2017/01/20/ben/\n",
      "https://lenta.ru/news/2017/01/20/arest_dvoe_podozr_braz/\n",
      "https://lenta.ru/news/2017/01/20/chinesemoney/\n",
      "https://lenta.ru/news/2017/01/19/syria_alqaeda/\n",
      "https://lenta.ru/news/2017/01/20/poroshenko_kak_pussy_riot/\n",
      "https://lenta.ru/news/2017/01/20/contact/\n",
      "https://lenta.ru/news/2017/01/19/peskov_sotr_rus_ysa/\n",
      "https://lenta.ru/news/2017/01/19/brazil/\n",
      "https://lenta.ru/news/2017/01/19/rivaldoundercover/\n",
      "https://lenta.ru/news/2017/01/19/sb_oon_smena_vlasti_gambia/\n",
      "https://lenta.ru/news/2017/01/19/skarecord/\n",
      "https://lenta.ru/news/2017/01/19/atom/\n",
      "https://lenta.ru/news/2017/01/19/monkey/\n",
      "https://lenta.ru/news/2017/01/19/manning_thanks/\n",
      "https://lenta.ru/news/2017/01/19/gorillaz/\n",
      "https://lenta.ru/news/2017/01/19/mutkodnk/\n",
      "https://lenta.ru/news/2017/01/19/israelrussianembassy/\n",
      "https://lenta.ru/news/2017/01/19/biletsky/\n",
      "https://lenta.ru/news/2017/01/19/ambulance/\n",
      "https://lenta.ru/news/2017/01/19/saw/\n",
      "https://lenta.ru/news/2017/01/19/kw/\n",
      "https://lenta.ru/news/2017/01/19/chto_eto/\n",
      "https://lenta.ru/news/2017/01/19/belfood/\n",
      "https://lenta.ru/news/2017/01/19/ne_dlya_skuki/\n",
      "https://lenta.ru/news/2017/01/21/messibarca/\n",
      "https://lenta.ru/news/2017/01/19/amer_samolet/\n",
      "https://lenta.ru/news/2017/01/19/mnuchin/\n",
      "https://lenta.ru/news/2017/01/19/farewell_letter/\n",
      "https://lenta.ru/news/2017/01/19/lincoln_bible/\n",
      "https://lenta.ru/news/2017/01/19/keepwarm/\n",
      "https://lenta.ru/news/2017/01/19/sami/\n",
      "https://lenta.ru/news/2017/01/19/pokemon/\n",
      "https://lenta.ru/news/2017/01/19/giperweapon/\n",
      "https://lenta.ru/news/2017/01/19/fire/\n",
      "https://lenta.ru/news/2017/01/19/sliv/\n",
      "https://lenta.ru/news/2017/01/19/poster/\n",
      "https://lenta.ru/news/2017/01/19/mozyakinrecord/\n",
      "https://lenta.ru/news/2017/01/19/drliza/\n",
      "https://lenta.ru/news/2017/01/19/dancedancedance/\n",
      "https://lenta.ru/news/2017/01/19/stena/\n",
      "https://lenta.ru/news/2017/01/19/rusbrasil/\n",
      "https://lenta.ru/news/2017/01/19/dress/\n",
      "https://lenta.ru/news/2017/01/19/medvedev_usa/\n",
      "https://lenta.ru/news/2017/01/19/highcourt/\n",
      "https://lenta.ru/news/2017/01/19/zakon_smyagchat/\n",
      "https://lenta.ru/news/2017/01/19/ready2pay/\n",
      "https://lenta.ru/news/2017/01/19/kaskovo_zaproshuemo/\n",
      "https://lenta.ru/news/2017/01/19/first/\n",
      "https://lenta.ru/news/2017/01/20/naturist_cleaners/\n",
      "https://lenta.ru/news/2017/01/19/istomindjokovic/\n",
      "https://lenta.ru/news/2017/01/19/trumpkill/\n",
      "https://lenta.ru/news/2017/01/19/biathlonolympic/\n",
      "https://lenta.ru/news/2017/01/19/ski_resorts/\n",
      "https://lenta.ru/news/2017/01/19/deputatukrgaz/\n",
      "https://lenta.ru/news/2017/01/19/currency/\n",
      "https://lenta.ru/news/2017/01/19/peskov_sotr_rus_ysa/\n",
      "https://lenta.ru/news/2017/01/20/poroshenko_kak_pussy_riot/\n",
      "https://lenta.ru/news/2017/01/19/pokemon/\n",
      "https://lenta.ru/news/2017/01/19/syria_alqaeda/\n",
      "https://lenta.ru/news/2017/01/19/brazil/\n",
      "https://lenta.ru/news/2017/01/19/mnuchin/\n",
      "https://lenta.ru/news/2017/01/19/biletsky/\n",
      "https://lenta.ru/news/2017/01/19/sami/\n",
      "https://lenta.ru/news/2017/01/19/zakharchenko/\n",
      "https://lenta.ru/news/2017/01/19/gorbachev/\n",
      "https://lenta.ru/news/2017/01/19/stena/\n",
      "https://lenta.ru/news/2017/01/19/belfood/\n",
      "https://lenta.ru/news/2017/01/19/highcourt/\n",
      "https://lenta.ru/news/2017/01/19/rublgrowth/\n",
      "https://lenta.ru/news/2017/01/19/deputatukrgaz/\n",
      "https://lenta.ru/news/2017/01/19/currency/\n",
      "https://lenta.ru/news/2017/01/19/atom/\n",
      "https://lenta.ru/news/2017/01/19/uyaes/\n",
      "https://lenta.ru/news/2017/01/19/lada/\n",
      "https://lenta.ru/news/2017/01/19/ford/\n",
      "https://lenta.ru/news/2017/01/19/amer_samolet/\n",
      "https://lenta.ru/news/2017/01/20/arest_dvoe_podozr_braz/\n",
      "https://lenta.ru/news/2017/01/19/ukr19/\n",
      "https://lenta.ru/news/2017/01/19/verbovka/\n",
      "https://lenta.ru/news/2017/01/19/monkey/\n",
      "https://lenta.ru/news/2017/01/20/contact/\n",
      "https://lenta.ru/news/2017/01/19/robot/\n",
      "https://lenta.ru/news/2017/01/19/saw/\n",
      "https://lenta.ru/news/2017/01/19/rivaldoundercover/\n",
      "https://lenta.ru/news/2017/01/21/messibarca/\n",
      "https://lenta.ru/news/2017/01/19/skarecord/\n",
      "https://lenta.ru/news/2017/01/19/istomindjokovic/\n",
      "https://lenta.ru/news/2017/01/19/gorillaz/\n",
      "https://lenta.ru/news/2017/01/19/poster/\n",
      "https://lenta.ru/news/2017/01/19/lambada/\n",
      "https://lenta.ru/news/2017/01/19/kw/\n",
      "https://lenta.ru/news/2017/01/19/powerrangers/\n",
      "https://lenta.ru/news/2017/01/19/trumpkill/\n",
      "https://lenta.ru/news/2017/01/20/cnnumad/\n",
      "https://lenta.ru/news/2017/01/19/rt_fb/\n",
      "https://lenta.ru/news/2017/01/19/sliv/\n",
      "https://lenta.ru/news/2017/01/19/erotic_art/\n",
      "https://lenta.ru/news/2017/01/19/electrobentley/\n",
      "https://lenta.ru/news/2017/01/19/adidas_originals/\n",
      "https://lenta.ru/news/2017/01/19/karl/\n",
      "https://lenta.ru/news/2017/01/19/iwc/\n",
      "https://lenta.ru/news/2017/01/19/ski_resorts/\n",
      "https://lenta.ru/news/2017/01/19/tourist_diamonds/\n",
      "https://lenta.ru/news/2017/01/19/new_big_mac/\n",
      "https://lenta.ru/news/2017/01/19/no_russia_for_zhuk/\n",
      "https://lenta.ru/news/2017/01/20/ben/\n",
      "https://lenta.ru/articles/2017/01/20/crips_and_bloods/\n",
      "https://lenta.ru/articles/2017/01/20/crips_and_bloods/\n",
      "https://lenta.ru/articles/2017/01/20/leninart/\n",
      "https://lenta.ru/articles/2017/01/20/trump_economy/\n",
      "https://lenta.ru/articles/2017/01/20/tigr/\n",
      "https://lenta.ru/articles/2017/01/19/kazakhstan/\n",
      "https://lenta.ru/articles/2017/01/19/pyromania/\n",
      "https://lenta.ru/articles/2017/01/19/tambora/\n",
      "https://lenta.ru/articles/2017/01/20/zradonka/\n",
      "https://lenta.ru/articles/2017/01/20/internet_addiction/\n",
      "https://lenta.ru/articles/2017/01/20/bacterium/\n",
      "https://lenta.ru/articles/2017/01/19/turmamarseille/\n",
      "https://lenta.ru/articles/2017/01/19/gotie/\n",
      "https://lenta.ru/articles/2017/01/19/osvedomiteli/\n",
      "https://lenta.ru/articles/2017/01/19/wrong_side_of_history/\n",
      "https://lenta.ru/articles/2017/01/19/loveformoney/\n",
      "https://lenta.ru/articles/2017/01/19/last_judgment/\n"
     ]
    }
   ],
   "source": [
    "for link in hrefs:\n",
    "    if \"<\" not in link:\n",
    "        resp = ur.urlopen(link)\n",
    "        htmlpage = resp.read().decode(\"utf-8\")\n",
    "        resp.close()\n",
    "        #print(htmlpage)\n",
    "        text = re.split(\"</p></div></div><section\", re.split('itemprop=\"articleBody\">',htmlpage)[1])[0]\n",
    "        print(link)"
   ]
  },
  {
   "cell_type": "code",
   "execution_count": null,
   "metadata": {
    "collapsed": true
   },
   "outputs": [],
   "source": []
  }
 ],
 "metadata": {
  "anaconda-cloud": {},
  "kernelspec": {
   "display_name": "Python [default]",
   "language": "python",
   "name": "python3"
  },
  "language_info": {
   "codemirror_mode": {
    "name": "ipython",
    "version": 3
   },
   "file_extension": ".py",
   "mimetype": "text/x-python",
   "name": "python",
   "nbconvert_exporter": "python",
   "pygments_lexer": "ipython3",
   "version": "3.5.2"
  }
 },
 "nbformat": 4,
 "nbformat_minor": 1
}
