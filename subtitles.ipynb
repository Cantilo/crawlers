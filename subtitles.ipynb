{
 "cells": [
  {
   "cell_type": "code",
   "execution_count": 16,
   "metadata": {
    "collapsed": false
   },
   "outputs": [],
   "source": [
    "import os\n",
    "import pysrt"
   ]
  },
  {
   "cell_type": "code",
   "execution_count": 17,
   "metadata": {
    "collapsed": false
   },
   "outputs": [],
   "source": [
    "\n",
    "for file in os.listdir(r\"/home/mi_air/Downloads/18 to Life\"):\n",
    "    if file.endswith(\"ru.srt\"):\n",
    "        \n",
    "        filename = r\"/home/mi_air/Downloads/18 to Life/\" + file\n",
    "        filenametxt = filename + \".txt\"\n",
    "        out = open(filenametxt, \"w\", encoding=\"utf-8\")\n",
    "        fl = open(filename, \"r\", encoding=\"utf-8\")\n",
    "        out.write(fl.read())"
   ]
  },
  {
   "cell_type": "code",
   "execution_count": 22,
   "metadata": {
    "collapsed": false
   },
   "outputs": [
    {
     "name": "stdout",
     "output_type": "stream",
     "text": [
      "126271\n"
     ]
    }
   ],
   "source": [
    "wordcount=0\n",
    "for file in os.listdir(r\"/home/mi_air/Downloads/18 to Life\"):\n",
    "    if file.endswith(\"ru.srt.txt\"):\n",
    "        filename = r\"/home/mi_air/Downloads/18 to Life/\" + file\n",
    "        fl = open(filename, \"r\", encoding=\"utf-8\")\n",
    "        for line in fl:\n",
    "            wordlist = line.split(\" \")\n",
    "            if line.isdigit()==False:\n",
    "                #print(line)\n",
    "                wordcount += len(wordlist)\n",
    "print (wordcount)"
   ]
  },
  {
   "cell_type": "code",
   "execution_count": null,
   "metadata": {
    "collapsed": true
   },
   "outputs": [],
   "source": []
  }
 ],
 "metadata": {
  "anaconda-cloud": {},
  "kernelspec": {
   "display_name": "Python [default]",
   "language": "python",
   "name": "python3"
  },
  "language_info": {
   "codemirror_mode": {
    "name": "ipython",
    "version": 3
   },
   "file_extension": ".py",
   "mimetype": "text/x-python",
   "name": "python",
   "nbconvert_exporter": "python",
   "pygments_lexer": "ipython3",
   "version": "3.5.2"
  }
 },
 "nbformat": 4,
 "nbformat_minor": 2
}
