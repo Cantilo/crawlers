{
 "cells": [
  {
   "cell_type": "code",
   "execution_count": 2,
   "metadata": {},
   "outputs": [
    {
     "name": "stderr",
     "output_type": "stream",
     "text": [
      "/home/mi_air/.local/lib/python3.5/site-packages/requests/__init__.py:91: RequestsDependencyWarning: urllib3 (1.24.1) or chardet (2.3.0) doesn't match a supported version!\n",
      "  RequestsDependencyWarning)\n"
     ]
    }
   ],
   "source": [
    "from __future__ import print_function\n",
    "\n",
    "import os\n",
    "import sys\n",
    "import time\n",
    "import json\n",
    "import requests\n",
    "import lxml.html\n",
    "import io\n",
    "from tqdm import tqdm\n",
    "from lxml.cssselect import CSSSelector\n",
    "\n",
    "#used to make the Browser Working\n",
    "from selenium import webdriver\n",
    "#Send keycodes to Elements\n",
    "from selenium.webdriver.common.keys import Keys\n",
    "#scrape the url's and comments\n",
    "from bs4 import BeautifulSoup\n",
    "\n",
    "import re\n",
    "import datetime\n",
    "import time\n",
    "import codecs\n",
    "\n",
    "\n"
   ]
  },
  {
   "cell_type": "code",
   "execution_count": 5,
   "metadata": {
    "collapsed": true
   },
   "outputs": [],
   "source": [
    "\n",
    "\n",
    "YOUTUBE_COMMENTS_URL = 'https://www.youtube.com/all_comments?v={youtube_id}'\n",
    "YOUTUBE_COMMENTS_AJAX_URL = 'https://www.youtube.com/comment_ajax'\n",
    "\n",
    "USER_AGENT = 'Mozilla/5.0 (Windows NT 6.1; WOW64) AppleWebKit/537.36 (KHTML, like Gecko) Chrome/48.0.2564.116 Safari/537.36'\n"
   ]
  },
  {
   "cell_type": "code",
   "execution_count": 3,
   "metadata": {},
   "outputs": [
    {
     "data": {
      "text/plain": [
       "'2019-04-10'"
      ]
     },
     "execution_count": 3,
     "metadata": {},
     "output_type": "execute_result"
    }
   ],
   "source": [
    "str(datetime.date.today())"
   ]
  },
  {
   "cell_type": "code",
   "execution_count": 4,
   "metadata": {},
   "outputs": [
    {
     "name": "stdout",
     "output_type": "stream",
     "text": [
      "{'/watch?v=ew-8i7UUpLY', '/watch?v=oOxDLuTXyCo', '/watch?v=32Rj7dv2IRE', '/watch?v=RtSS0SJE8oE', '/watch?v=N0CGM956z18', '/watch?v=fhCLQNYowcE', '/watch?v=AbXahmBSLTk', '/watch?v=ocekebVtZvw', '/watch?v=JM-GwDh73Wc', '/watch?v=BLHrjzTEr0c', '/watch?v=H6Kl8kheGBg', '/watch?v=cnn-z4U_S50', '/watch?v=F1B9Fk_SgI0', '/watch?v=qr4AaWAkf34', '/watch?v=knBhDpMXsQo', '/watch?v=DEfgiRorfbM', '/watch?v=DVH0CzurtIE', '/watch?v=p1JPKLa-Ofc', '/watch?v=nhcDl3S5sXQ', '/watch?v=TcMBFSGVi1c', '/watch?v=b52lho8lD6Q', '/watch?v=kPg3M4C9N9w', '/watch?v=XlmaJ-yU46U', '/watch?v=U_90XNCBatY', '/watch?v=6pdfriFuFt8', '/watch?v=vw2SaHkGfss', '/watch?v=yzZIS1TtXjw', '/watch?v=q97nD5dOS5M', '/watch?v=31OnT5iSLA0', '/watch?v=3y-O-4IL-PU', '/watch?v=RzfO1FbUCo8', '/watch?v=IRKwwk7CXBQ', '/watch?v=ZD9OkKE0TfA', '/watch?v=35adpxPiNlU', '/watch?v=4yXU8K-9SIw', '/watch?v=nDq6TstdEi8', '/watch?v=3XNDaISqFX8', '/watch?v=3p1fHBNILhM', '/watch?v=W1j28DRcFBQ', '/watch?v=qywZ6lUcNo8', '/watch?v=_XFzT9GMmw8', '/watch?v=hE2Ira-Cwxo', '/watch?v=A8N4_cjLXH8', '/watch?v=kvvLXVDYl6I', '/watch?v=vEUlnLOQG8k', '/watch?v=ssbNmaOmVMk', '/watch?v=XW_KhFq4LQo', '/watch?v=CaBq3SvO0a4', '/watch?v=6Z6zfRWTotY', '/watch?v=3t195yz9xCc', '/watch?v=YbiKtZSqmB4', '/watch?v=wzjWIxXBs_s', '/watch?v=4D8ezH0iXh8', '/watch?v=cyzqxRHLPpk', '/watch?v=CiL-yTNa6QY', '/watch?v=eKmRkS1os7k', '/watch?v=ufI6DCB6X2U', '/watch?v=c18WvLeJn-I', '/watch?v=f30Jq8BQPQo', '/watch?v=7gvqArR7nlA', '/watch?v=el00pNoRB34', '/watch?v=Ba44js56nF4', '/watch?v=gporsZ8WnsM', '/watch?v=P2qOZDuiYlM', '/watch?v=x865r5EqKDo', '/watch?v=PHgc8Q6qTjc', '/watch?v=TwFvvcHf7Dw', '/watch?v=_nf8GV0AvtI', '/watch?v=AKzFFJXMDyE', '/watch?v=iP0MrLN4xso', '/watch?v=o39KwSswsgw', '/watch?v=iloh1SUe42g', '/watch?v=2apVwq-pX9E', '/watch?v=u4x9YyRnFDE', '/watch?v=hsGOT_0L16U', '/watch?v=kO9bzwqCNgo', '/watch?v=IRUihzQvBMo', '/watch?v=zUyH3XhpLTo', '/watch?v=DFia7FhVmuM', '/watch?v=buCD-_1UPn4', '/watch?v=mFlrc16xjik', '/watch?v=qcGNoZ3r9t8', '/watch?v=XmAsgB4EMR8', '/watch?v=KCSNFZKbhZE', '/watch?v=nMfPqeZjc2c', '/watch?v=eEd2K1FxNQY', '/watch?v=3NycM9lYdRI', '/watch?v=gmU9PBDS-0k', '/watch?v=3fEdoqHCaM8', '/watch?v=jCC8fPQOaxU', '/watch?v=VUArb3AIpm4', '/watch?v=z6buCeA4ZSc', '/watch?v=K3Qzzggn--s', '/watch?v=jwxI0OX3GsA', '/watch?v=xcg_e-FY_Vs', '/watch?v=nvRjW2oYBiU', '/watch?v=b2AcxL88DoI', '/watch?v=ZeTWW47yhC4', '/watch?v=sxt4YCIsn2I', '/watch?v=S1gp0m4B5p8', '/watch?v=laoUmXqscdk', '/watch?v=hC8CH0Z3L54', '/watch?v=eQHo2zo58no', '/watch?v=lZIq7A9zKFs', '/watch?v=C5Gm8UvxKlU', '/watch?v=2KBFD0aoZy8', '/watch?v=JKeG1iJNxGs', '/watch?v=OdV6SkGZb3g', '/watch?v=g9bzrGBzSC4', '/watch?v=b5W9t62t10I', '/watch?v=66Ki5_-E0n4', '/watch?v=yMRoNNKWuqQ', '/watch?v=4cx9apL7HhY', '/watch?v=9DzSGPad_z4', '/watch?v=4H9jTQKmR3Q', '/watch?v=4zI6guqVqiI', '/watch?v=sCD9zjf_YRU', '/watch?v=jfjfzKf85Ac', '/watch?v=Yxnsxg4rs0E', '/watch?v=lFcSrYw-ARY', '/watch?v=1ZYbU82GVz4', '/watch?v=1nnRC6jDOCI', '/watch?v=7Jj83FOlBF8', '/watch?v=L5cLq1mIC70', '/watch?v=4NcoqtHH2IE', '/watch?v=jJys1BM8x8k', '/watch?v=tF0uHeLy1v0', '/watch?v=gXKPjSkCSMM', '/watch?v=9uIk_91GQYI', '/watch?v=njHvGxZgTPk', '/watch?v=l8kLiUZDbQ4', '/watch?v=t433PEQGErc', '/watch?v=GRTS9yZJREk', '/watch?v=emKhAptPqg4', '/watch?v=Z-0FXUgVsVs', '/watch?v=CX17qmYO0o0', '/watch?v=WzfRhSU9_qA', '/watch?v=kHkKihbfsXQ', '/watch?v=GMFewiplIbw', '/watch?v=xpVfcZ0ZcFM', '/watch?v=x4o5g_PGkiA', '/watch?v=qvzW_CJTlmM', '/watch?v=VfNvJs7-RM4', '/watch?v=LS_-ZMcGnow', '/watch?v=r34Isj_erU4', '/watch?v=zXtsGAkyeIo', '/watch?v=tKMmMHyLBCE', '/watch?v=0fUMyQlzujU', '/watch?v=4IrkawvzGE8', '/watch?v=k4YRWT_Aldo', '/watch?v=-UOMvxh4MYU', '/watch?v=NwSIgDKvMHk', '/watch?v=au2n7VVGv_c', '/watch?v=HmH4W8JOifg', '/watch?v=IV6IuCTg6MU', '/watch?v=8xQrvclhJrU', '/watch?v=RbMqcFvtMN8', '/watch?v=5nxD4PY39xw', '/watch?v=jC7eeYwKrg0', '/watch?v=txQ6t4yPIM0', '/watch?v=WPni755-Krg', '/watch?v=NymS69shfkc', '/watch?v=_YuMfMLC8FA', '/watch?v=jHcbLgNQ4Co', '/watch?v=wi0q0y7U75c', '/watch?v=JeTzND6XrB0', '/watch?v=r8EF3X8EI2o', '/watch?v=s2Gw6r6HooA', '/watch?v=9QbltzIUV6w', '/watch?v=B8yo1HPW2O4', '/watch?v=JnfP9qKAbk8', '/watch?v=o7W7OvETO40', '/watch?v=vjjS92Q0lYs', '/watch?v=mzs7lmETE90', '/watch?v=qO2Y6BHYhHw', '/watch?v=HO2AJneTjAM', '/watch?v=GFEcOvs6YWk', '/watch?v=rTKodwXQi78', '/watch?v=57p6K-5ZSNc', '/watch?v=-twm7ldMOtI', '/watch?v=nvm6RzVLjWo', '/watch?v=J3UXp9jIr-U', '/watch?v=Cfd6PknS0Fw', '/watch?v=waU75jdUnYw', '/watch?v=ERUugjLmwuY', '/watch?v=MikD7plCDQg', '/watch?v=zxeTC0wKPXs', '/watch?v=OjWsugnahJ0', '/watch?v=zS-Og_RfdNc', '/watch?v=eDuRoPIOBjE', '/watch?v=23e9_o5rxsA', '/watch?v=STZZso9GUhA', '/watch?v=nEDKVNoE2ws', '/watch?v=m8UQ4O7UiDs', '/watch?v=EIeUJcP3T0Q', '/watch?v=7ysFgElQtjI', '/watch?v=jsHX1cFL41w', '/watch?v=qOXXvttM-e8', '/watch?v=9z1nTwP2n0w', '/watch?v=LH4Y1ZUUx2g', '/watch?v=0HpYEZ86Wuc', '/watch?v=2sap-GTtCiU', '/watch?v=8Ap7aJsfaXQ', '/watch?v=IPPYI64aHno', '/watch?v=ygyz3Mqjh0k', '/watch?v=-QKP4iVCaiY', '/watch?v=-bmA1D00B4o', '/watch?v=01ouUdAEFdU', '/watch?v=wWdXfX4Vpm8'}\n"
     ]
    }
   ],
   "source": [
    "\n",
    "# The List where the links to the videos are stored\n",
    "links = set()\n",
    "\n",
    "comments = list()\n",
    "\n",
    "homePage = 'https:www.youtube.com'\n",
    "linksSize = 10\n",
    "driver = webdriver.Firefox()\n",
    "\n",
    "output = open(\"/media/mi_air/0F0B7DDE62EEA81E/youtube/\"+str(datetime.date.today())+\".txt\",\"w\")\n",
    "\n",
    "def loadFullPage(Timeout):\n",
    "    reachedbottom = None\n",
    "    while not reachedbottom:\n",
    "        #scroll one pane down\n",
    "        driver.execute_script(\"window.scrollTo(0,Math.max(document.documentElement.scrollHeight,document.body.scrollHeight,document.documentElement.clientHeight));\");\n",
    "        time.sleep(Timeout)\n",
    "        #check if the bottom is reached\n",
    "        a = driver.execute_script(\"return document.documentElement.scrollTop;\")\n",
    "        b = driver.execute_script(\"return document.documentElement.scrollHeight - document.documentElement.clientHeight;\")\n",
    "        relativeHeight = a / b\n",
    "        if(relativeHeight==1):\n",
    "            reachedbottom = True\n",
    "def getComments(link):\n",
    "    driver.get(url='https:youtube.com'+link)\n",
    "    loadFullPage(1)\n",
    "\n",
    "\n",
    "def main():\n",
    "    driver.get(url=homePage)\n",
    "    enoughLinks = None\n",
    "\n",
    "    while not enoughLinks:\n",
    "        loadFullPage(1)\n",
    "\n",
    "        soup = BeautifulSoup(driver.page_source, 'html.parser')\n",
    "\n",
    "        for link in soup.find_all(\"a\",class_=\"yt-simple-endpoint style-scope ytd-grid-video-renderer\", href=True):\n",
    "            if link not in links:\n",
    "                links.add(link['href'])\n",
    "\n",
    "        if len(links) < linksSize:\n",
    "            driver.refresh()\n",
    "        else:\n",
    "            #for i in range(len(links)-1000):\n",
    "                #links.pop()\n",
    "            enoughLinks = True\n",
    "\n",
    "    #links.sort()\n",
    "    for link in links:\n",
    "        output.write(link)\n",
    "        output.write(\"\\n\")\n",
    "    output.close()\n",
    "    print(links)\n",
    "\n",
    "\n",
    "if __name__ == '__main__':\n",
    "    main()"
   ]
  },
  {
   "cell_type": "code",
   "execution_count": null,
   "metadata": {
    "collapsed": true
   },
   "outputs": [],
   "source": [
    "def find_value(html, key, num_chars=2):\n",
    "    pos_begin = html.find(key) + len(key) + num_chars\n",
    "    pos_end = html.find('\"', pos_begin)\n",
    "    return html[pos_begin: pos_end]\n",
    "\n",
    "\n",
    "def extract_comments(html):\n",
    "    tree = lxml.html.fromstring(html)\n",
    "    item_sel = CSSSelector('.comment-item')\n",
    "    text_sel = CSSSelector('.comment-text-content')\n",
    "    time_sel = CSSSelector('.time')\n",
    "    author_sel = CSSSelector('.user-name')\n",
    "\n",
    "    for item in item_sel(tree):\n",
    "        yield {'cid': item.get('data-cid'),\n",
    "               'text': text_sel(item)[0].text_content(),\n",
    "               'time': time_sel(item)[0].text_content().strip(),\n",
    "               'author': author_sel(item)[0].text_content()}\n",
    "\n",
    "\n",
    "def extract_reply_cids(html):\n",
    "    tree = lxml.html.fromstring(html)\n",
    "    sel = CSSSelector('.comment-replies-header > .load-comments')\n",
    "    return [i.get('data-cid') for i in sel(tree)]\n",
    "\n",
    "\n",
    "def ajax_request(session, url, params, data, retries=10, sleep=20):\n",
    "    for _ in range(retries):\n",
    "        response = session.post(url, params=params, data=data)\n",
    "        if response.status_code == 200:\n",
    "            response_dict = json.loads(response.text)\n",
    "            return response_dict.get('page_token', None), response_dict['html_content']\n",
    "        else:\n",
    "            time.sleep(sleep)\n",
    "\n",
    "\n",
    "def download_comments(youtube_id, sleep=1):\n",
    "    session = requests.Session()\n",
    "    session.headers['User-Agent'] = USER_AGENT\n",
    "\n",
    "    # Get Youtube page with initial comments\n",
    "    response = session.get(YOUTUBE_COMMENTS_URL.format(youtube_id=youtube_id))\n",
    "    html = response.text\n",
    "    reply_cids = extract_reply_cids(html)\n",
    "\n",
    "    ret_cids = []\n",
    "    for comment in extract_comments(html):\n",
    "        ret_cids.append(comment['cid'])\n",
    "        yield comment\n",
    "\n",
    "    page_token = find_value(html, 'data-token')\n",
    "    session_token = find_value(html, 'XSRF_TOKEN', 4)\n",
    "\n",
    "    first_iteration = True\n",
    "\n",
    "    # Get remaining comments (the same as pressing the 'Show more' button)\n",
    "    while page_token:\n",
    "        data = {'video_id': youtube_id,\n",
    "                'session_token': session_token}\n",
    "\n",
    "        params = {'action_load_comments': 1,\n",
    "                  'order_by_time': True,\n",
    "                  'filter': youtube_id}\n",
    "\n",
    "        if first_iteration:\n",
    "            params['order_menu'] = True\n",
    "        else:\n",
    "            data['page_token'] = page_token\n",
    "\n",
    "        response = ajax_request(session, YOUTUBE_COMMENTS_AJAX_URL, params, data)\n",
    "        if not response:\n",
    "            break\n",
    "\n",
    "        page_token, html = response\n",
    "\n",
    "        reply_cids += extract_reply_cids(html)\n",
    "        for comment in extract_comments(html):\n",
    "            if comment['cid'] not in ret_cids:\n",
    "                ret_cids.append(comment['cid'])\n",
    "                yield comment\n",
    "\n",
    "        first_iteration = False\n",
    "        time.sleep(sleep)\n",
    "\n",
    "    # Get replies (the same as pressing the 'View all X replies' link)\n",
    "    for cid in reply_cids:\n",
    "        data = {'comment_id': cid,\n",
    "                'video_id': youtube_id,\n",
    "                'can_reply': 1,\n",
    "                'session_token': session_token}\n",
    "\n",
    "        params = {'action_load_replies': 1,\n",
    "                  'order_by_time': True,\n",
    "                  'filter': youtube_id,\n",
    "                  'tab': 'inbox'}\n",
    "\n",
    "        response = ajax_request(session, YOUTUBE_COMMENTS_AJAX_URL, params, data)\n",
    "        if not response:\n",
    "            break\n",
    "\n",
    "        _, html = response\n",
    "\n",
    "        for comment in extract_comments(html):\n",
    "            if comment['cid'] not in ret_cids:\n",
    "                ret_cids.append(comment['cid'])\n",
    "                yield comment\n",
    "        time.sleep(sleep)\n",
    "\n",
    "\n",
    "def main(youtube_id, output, limit=100):\n",
    "\n",
    "    try:\n",
    "\n",
    "        if not youtube_id or not output:\n",
    "            parser.print_usage()\n",
    "            raise ValueError('you need to specify a Youtube ID and an output filename')\n",
    "\n",
    "        print('Downloading Youtube comments for video:', youtube_id)\n",
    "        count = 0\n",
    "        with io.open(output, 'w', encoding='utf8') as fp:\n",
    "            for comment in download_comments(youtube_id):\n",
    "                sys.stdout.write(json.dumps(comment, ensure_ascii=False))\n",
    "                count += 1\n",
    "                sys.stdout.write('Downloaded %d comment(s)\\r' % count)\n",
    "                sys.stdout.flush()\n",
    "                if limit and count >= limit:\n",
    "                    break\n",
    "        print('\\nDone!')\n",
    "\n",
    "\n",
    "    except Exception as e:\n",
    "        print('Error:', str(e))\n",
    "        sys.exit(1)\n",
    "\n"
   ]
  },
  {
   "cell_type": "code",
   "execution_count": null,
   "metadata": {},
   "outputs": [
    {
     "name": "stderr",
     "output_type": "stream",
     "text": [
      "\n",
      "  0%|          | 0/10 [00:00<?, ?it/s]\u001b[A"
     ]
    },
    {
     "name": "stdout",
     "output_type": "stream",
     "text": [
      "Downloading Youtube comments for video: ew-8i7UUpLY\n",
      "{\"author\": \"B Solo\", \"cid\": \"UgyaulXNutDMC8e8br54AaABAg\", \"time\": \"1 hour ago\", \"text\": \"Draymond Green looks like he just escaped slavery!﻿\"}Downloaded 20 comment(s) appearances than a guy like Bradley Beal speaks to why people think Draymond is overrated. He would not make the all star team on any other team in the league.﻿\"}Downloaded 19 comment(s)es only one ball\\\" crap. hes better then 90 % of yalls PFs, even as a \\\"role player\\\". fuck off﻿\"}Downloaded 16 comment(s)\r"
     ]
    },
    {
     "name": "stderr",
     "output_type": "stream",
     "text": [
      "\n"
     ]
    },
    {
     "name": "stdout",
     "output_type": "stream",
     "text": [
      "{\"author\": \"Infinit 0\", \"cid\": \"Ugz1AnGIkvGzByb2GJR4AaABAg\", \"time\": \"5 hours ago\", \"text\": \"Draymond needs to accept that he is hostile first off, and work on his craft. He could be a helluva rebounder, like Rodman with his attitude, but he thinks to highly of himself and he isn't putting up double digit scoring numbers. He should reevaluate and change for the better before his time runs out.﻿\"}Downloaded 100 comment(s)n and on. Jalen makes a good point that he rose out of nothing and was a nobody coming into the league. But it's also true that he's become overrated playing on the Warriors.﻿\"}Downloaded 92 comment(s)nd PG13 made a contested shot, but hey, it's still counted as assist. If he can average 5 blocks and 5 steal, then even he got no triple double he will be most underrated. But no, the players got this right, he can't even shoot FT. Oh btw, he's the 2nd in TO per game.﻿\"}Downloaded 47 comment(s)\r"
     ]
    },
    {
     "name": "stderr",
     "output_type": "stream",
     "text": [
      "\r",
      " 10%|█         | 1/10 [00:07<01:11,  7.99s/it]"
     ]
    },
    {
     "name": "stdout",
     "output_type": "stream",
     "text": [
      "\n",
      "Done!\n",
      "Downloading Youtube comments for video: oOxDLuTXyCo\n",
      "{\"author\": \"SERBIA SRB\", \"cid\": \"UgwA19RnoZDvmDCdXpt4AaABAg\", \"time\": \"2 days ago\", \"text\": \"VIVA BARÇA 💪🏻💪🏻💪🏻﻿\"}Downloaded 100 comment(s)day.﻿\"}Downloaded 99 comment(s)er dribbling, better short and medium pass, strrt faster\\nRonaldo plays better with his head, he has a stronger blow, he runs faster for medium and long﻿\"}Downloaded 97 comment(s)fensive game\\nAlso, Argentina needs 2-3 tall and powerful players in order not to yield to high and powerful teams like Germany and France.﻿\"}Downloaded 96 comment(s) a stumbling block for anyone.\\\" While I did understood the meaning of it, I was not able to grasp the full width of those words. You see, what this young man was telling me was that he wouldn't want to play a song that would provoke myself to defile my own conscience with old sinful memories, because if he did, then he would become a stumbling block for me. Very truthful indeed. How much more then, is your conscience defiled when you see nudity, death, violence, and sinful acts or when we hear cursing, lies, rumors, gossip, and hatred? It's true, each and everyone of us is going to give an account for how we lived in this life, and we will be judged according to our works. Are you a stumbling block for others, or do guard your eyes and ears and mouth? \\\"But I say unto you, That every idle word that men shall speak, they shall give account thereof in the day of judgment\\\" (Matthew 12:36)﻿\"}Downloaded 88 comment(s) en nuestro lugar. Jesús se convirtió en nuestro sustituto. \\n\\nEn la Biblia, un carcelero preguntó a sus prisioneros Pablo y Silas: “Señores, ¿qué tengo que hacer para ser salvo? —Cree en el Señor Jesús; así tú y tu familia serán salvos —le contestaron. \\n\\nLa Biblia es clara, cree en Jesús como aquel que cargó tus pecados, murió en tu lugar, fue enterrado y luego resucitado por Dios. Es la sangre de Cristo y la resurrección que nos aseguran la vida eterna cuando lo llamamos nuestro Señor y Salvador. “Porque todo el que invoque el nombre del Señor será salvo” (Romanos 10:13). “Todo el que” incluye a todos y cada uno de nosotros. \\n\\nPor lo tanto, si tú entiendes que eres un pecador y crees que Jesucristo vino como el único Redentor del pecado, entonces entiendes el plan de salvación. La pregunta es: ¿Estás listo para implementar el plan, recibiendo el regalo de Dios, Jesucristo? Si es así, cree en Jesucristo, arrepiéntete de tus pecados y entrégale el resto de tu vida a él como tu Señor:\\n\\n“Padre, sé que he quebrantado tus leyes y que mis pecados me han separado de ti. Estoy sinceramente arrepentido y ahora quiero apartarme de mi pasado pecaminoso y dirigirme hacia ti. Por favor, perdóname y ayúdame a no pecar de nuevo. Creo que tu hijo Jesucristo murió por mis pecados, resucitó de la muerte, está vivo y escucha mi oración. Invito a Jesús a que se convierta en el Señor de mi vida, a que gobierne y reine en mi corazón de este día en adelante. Por favor, envía tu Espíritu Santo para que me ayude a obedecerte y a hacer tu voluntad por el resto de mi vida. En el nombre de Jesús oro, amén.”“Arrepiéntanse y bautícese cada uno de ustedes en el nombre de Jesucristo para perdón de sus pecados --les contestó Pedro--, y recibirán el don del Espíritu Santo” (Hechos 2:38). \\n\\nSi decidiste convertirte en cristiano el día de hoy, bienvenido a la familia de Dios. Ahora, como una forma de crecer más cerca de él, la Biblia nos dice que sigamos adelante con nuestro compromiso\\n\\nBautízate como lo ordenó Cristo.\\n\\nDile a otra persona de tu nueva fe en Cristo.\\n\\nPasa tiempo con Dios cada día. No tiene que ser un largo periodo de tiempo. Simplemente desarrolla el hábito diario de orar y leer su Palabra. Pídele a Dios que incremente tu fe y tu comprensión de la Biblia.\\n\\nBusca estar en comunión con otros cristianos. Sé parte de un grupo de amigos Cristianos que responda tus inquietudes y te apoye.\\n\\nEncuentra una iglesia local en la que puedas adorar a Dios.﻿\"}Downloaded 71 comment(s)\r"
     ]
    },
    {
     "name": "stderr",
     "output_type": "stream",
     "text": [
      "\r",
      " 20%|██        | 2/10 [00:16<01:05,  8.13s/it]"
     ]
    },
    {
     "name": "stdout",
     "output_type": "stream",
     "text": [
      "\n",
      "Done!\n",
      "Downloading Youtube comments for video: 32Rj7dv2IRE\n",
      "{\"author\": \"MSKANE302\", \"cid\": \"UgzAAxsi0mkbhqQ_3ld4AaABAg\", \"time\": \"1 week ago\", \"text\": \"19:14\\nMightyDuck:Ahhhhh\\nMom:Stop \\nMightyDuck:Believe I can fly\\nMom:Boy shut yo face.Shut yo face\\nMightyDuck:(trynna \\\"shut his face\\\") Um,I can't\\n😂🤣😂🤣😂🤣😂🤣😂🤣😂🤣😂🤣😂🤣😂🤣﻿\"}Downloaded 100 comment(s)sing🏃 you all over .﻿\"}Downloaded 95 comment(s)\r"
     ]
    },
    {
     "name": "stderr",
     "output_type": "stream",
     "text": [
      "\r",
      " 30%|███       | 3/10 [00:24<00:57,  8.15s/it]"
     ]
    },
    {
     "name": "stdout",
     "output_type": "stream",
     "text": [
      "\n",
      "Done!\n",
      "Downloading Youtube comments for video: RtSS0SJE8oE\n",
      "{\"author\": \"Lonewolf3D2\", \"cid\": \"UgyCblUz1kLybjkK3rd4AaABAg\", \"time\": \"7 hours ago\", \"text\": \"2516?﻿\"}Downloaded 20 comment(s)on my cave painting deluxe﻿\"}Downloaded 19 comment(s)All about space﻿\"}Downloaded 14 comment(s)omment(s)\r"
     ]
    }
   ],
   "source": [
    "wdir = r'/media/mi_air/0F0B7DDE62EEA81E/youtube/comments'\n",
    "\n",
    "uids = open(r'/media/mi_air/0F0B7DDE62EEA81E/youtube/'+str(datetime.date.today())+'.txt', 'r', encoding='utf8').readlines()\n",
    "uids = [i.strip('/watch?v=') for i in uids]\n",
    "for i in tqdm(uids[:10]):\n",
    "    uid = i.strip('\\n')\n",
    "    output = os.path.join(wdir, uid+'_'+str(datetime.date.today())+'.txt')\n",
    "    main(uid, output)"
   ]
  },
  {
   "cell_type": "code",
   "execution_count": null,
   "metadata": {
    "collapsed": true
   },
   "outputs": [],
   "source": []
  }
 ],
 "metadata": {
  "anaconda-cloud": {},
  "kernelspec": {
   "display_name": "Python [default]",
   "language": "python",
   "name": "python3"
  },
  "language_info": {
   "codemirror_mode": {
    "name": "ipython",
    "version": 3
   },
   "file_extension": ".py",
   "mimetype": "text/x-python",
   "name": "python",
   "nbconvert_exporter": "python",
   "pygments_lexer": "ipython3",
   "version": "3.5.2"
  }
 },
 "nbformat": 4,
 "nbformat_minor": 2
}
