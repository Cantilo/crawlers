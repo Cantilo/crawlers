{
 "cells": [
  {
   "cell_type": "markdown",
   "metadata": {},
   "source": [
    "Краулер для \"Комсомольской правды\""
   ]
  },
  {
   "cell_type": "code",
   "execution_count": 1,
   "metadata": {
    "collapsed": true
   },
   "outputs": [],
   "source": [
    "# Импортируем необходимые библиотеки:\n",
    "import requests # http-запросы,\n",
    "import re # регулярные выражения,\n",
    "from bs4 import BeautifulSoup # удаление тегов html,\n",
    "from tqdm import tqdm # красотуля для анализа прогресса.\n",
    "import time\n",
    "import random\n"
   ]
  },
  {
   "cell_type": "code",
   "execution_count": 2,
   "metadata": {
    "collapsed": true
   },
   "outputs": [],
   "source": [
    "# Функия принимает адрес статьи на nplus1.ru и возвращает текст статьи и метаинформацию по ней.\n",
    "def getArticleTextKP(adr):\n",
    "    r = requests.get(adr) # Получаем текст статьи, ...\n",
    "    \n",
    "    n_time=re.split(\"T\", re.split(\"',\", re.split(\"'pubdate':'\", r.text)[1])[0])[1]\n",
    "    n_date=re.split(\"T\", re.split(\"'pubdate':'\", r.text)[1])[0]\n",
    "    n_rubr=re.split(\"',\", re.split(\"'sections':'\", r.text)[1])[0]\n",
    "    n_id = re.split(\"',\", re.split(\"'post_id':'\", r.text)[1])[0]\n",
    "    n_region = re.split(\"',\", re.split(\"'ci_region':'\", r.text)[1])[0]\n",
    "# Достаем заголовок, автора и текст статьи.\n",
    "    n_head=re.split(\"',\",re.split(\"'title': '\", r.text)[1])[0]\n",
    "    n_author=re.split(\"',\",re.split(\"authors': '\", r.text)[1])[0]\n",
    "    text=re.split(\"</div></article>\",re.split('itemprop=\"articleBody\" id=\"hypercontext\">', r.text)[1])[0] \n",
    "\n",
    "# \"Откусываем\" оставшиеся теги.\n",
    "    beaux_text=BeautifulSoup(text, \"lxml\")\n",
    "    n_text=beaux_text.get_text() \n",
    "    time.sleep(random.uniform(1, 3))\n",
    "# print(n_time, n_date, n_rubr, n_diff)\n",
    "# print(n_head)\n",
    "# print(n_author)\n",
    "# print(n_text)\n",
    "    return [n_time, n_date, n_rubr, n_id, n_author, n_head, n_region, n_text]\n",
    "# def getArticleTextNPlus1(adr):"
   ]
  },
  {
   "cell_type": "code",
   "execution_count": 3,
   "metadata": {
    "collapsed": false
   },
   "outputs": [
    {
     "name": "stdout",
     "output_type": "stream",
     "text": [
      "['14:33:00+03:00', '2017-02-01', 'Общество>Общество', '10@2644091', 'Андрей СИНЬКОВ', 'Проезд по улице Карла Либкнехта ограничат на одну ночь в Иркутске', 'www.irk.kp.ru', '\\nВнимание, иркутские автомобилисты! С 22.00 часов 2 февраля до 06.00 3 февраля частично ограничат проезд по улице Карла Либкнехта возле пересечения с улицей Дзержинского.\\nКак сообщили в пресс-службе администрации Иркутска, ограничение для движения транспорта связано с тем, что рабочие будут проводить аварийные ремонтные работы на сетях водопровода\\nКроме этого, с 1 по 15 февраля в Иркутске ограничили движение по улице Набережная Иркута в районе КПП терминально-складского комплекса. Там, рабочие также проведут аварийные работы на водопроводных сетях.\\n']\n"
     ]
    }
   ],
   "source": [
    "link = \"http://www.irk.kp.ru/online/news/2644091/\"\n",
    "print(getArticleTextKP(link))"
   ]
  },
  {
   "cell_type": "code",
   "execution_count": null,
   "metadata": {
    "collapsed": false
   },
   "outputs": [],
   "source": [
    "hreffile=open(r\"/home/mi_air/Downloads/KP/href_list_dedup.txt\", \"w\", encoding=\"utf-8\")"
   ]
  },
  {
   "cell_type": "code",
   "execution_count": null,
   "metadata": {
    "collapsed": false
   },
   "outputs": [
    {
     "name": "stdout",
     "output_type": "stream",
     "text": [
      "http://www.kp.ru/online/news/2644470/\n",
      "http://www.kp.ru/online/news/2644469/\n",
      "http://www.kp.ru/online/news/2644468/\n",
      "http://www.kp.ru/online/news/2644467/\n",
      "http://www.kp.ru/online/news/2644466/\n",
      "http://www.kp.ru/online/news/2644465/\n",
      "http://www.kp.ru/online/news/2644464/\n",
      "http://www.kp.ru/online/news/2644463/\n",
      "http://www.kp.ru/online/news/2644461/\n",
      "http://www.kp.ru/online/news/2644459/\n",
      "http://www.kp.ru/online/news/2644458/\n",
      "http://www.kp.ru/online/news/2644457/\n",
      "http://www.kp.ru/online/news/2644456/\n",
      "http://www.kp.ru/online/news/2644455/\n",
      "http://www.kp.ru/online/news/2644453/\n",
      "http://www.kp.ru/online/news/2644452/\n",
      "http://www.kp.ru/online/news/2644451/\n",
      "http://www.kp.ru/online/news/2644448/\n",
      "http://www.kp.ru/online/news/2644447/\n",
      "http://www.kp.ru/online/news/2644446/\n",
      "http://www.kp.ru/online/news/2644445/\n",
      "http://www.kp.ru/online/news/2644444/\n"
     ]
    }
   ],
   "source": [
    "corpus=open(r\"/home/mi_air/Downloads/KP/corpus_KP.txt\", \"w\", encoding=\"utf-8\")\n",
    "num = 2644470\n",
    "while True:\n",
    "    link = \"http://www.kp.ru/online/news/\"+str(num)+\"/\"\n",
    "    try:\n",
    "        #[n_time, n_date, n_rubr, n_id, n_author, n_head, n_region, n_text]\n",
    "        params = getArticleTextKP(link)\n",
    "        corpus.write(\"<author>\"+params[4]+\"</author>\"+\"\\n\")\n",
    "        corpus.write(\"<textname>\"+params[5]+\"<textname>\"+\"\\n\")\n",
    "        corpus.write(\"<textregion>\"+params[6]+\"<textregion>\"+\"\\n\")\n",
    "        corpus.write(\"<textrubric>\"+params[2]+\"</textrubric>\"+\"\\n\")\n",
    "        corpus.write(\"<date>\"+params[1]+\"</date>\"+\"\\n\")\n",
    "        corpus.write(\"<time>\"+params[0]+\"</time>\"+\"\\n\")\n",
    "        corpus.write(\"<source>\"+link+\"</source>\"+\"\\n\")\n",
    "        corpus.write(\"<textid>\" + params[3]+\"</textid>\" +\"\\n\")\n",
    "        corpus.write(\"<text>\"+\"\\n\")\n",
    "        corpus.write(params[7]+\"\\n\")\n",
    "        corpus.write(\"</text>\"+\"\\n\")\n",
    "        print(link)\n",
    "        hreffile.write(link+\"\\n\")\n",
    "    except:\n",
    "        pass\n",
    "    num-=1"
   ]
  },
  {
   "cell_type": "code",
   "execution_count": null,
   "metadata": {
    "collapsed": true
   },
   "outputs": [],
   "source": []
  }
 ],
 "metadata": {
  "anaconda-cloud": {},
  "kernelspec": {
   "display_name": "Python [default]",
   "language": "python",
   "name": "python3"
  },
  "language_info": {
   "codemirror_mode": {
    "name": "ipython",
    "version": 3
   },
   "file_extension": ".py",
   "mimetype": "text/x-python",
   "name": "python",
   "nbconvert_exporter": "python",
   "pygments_lexer": "ipython3",
   "version": "3.5.2"
  }
 },
 "nbformat": 4,
 "nbformat_minor": 2
}
