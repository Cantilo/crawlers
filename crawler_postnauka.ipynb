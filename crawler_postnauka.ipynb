{
 "cells": [
  {
   "cell_type": "markdown",
   "metadata": {},
   "source": [
    "Краулер для постнауки,\n",
    "\n",
    "только чистые тексты FAQ\n",
    "848 публикаций\n",
    "\n",
    "https://postnauka.ru/faq"
   ]
  },
  {
   "cell_type": "code",
   "execution_count": 1,
   "metadata": {
    "collapsed": true
   },
   "outputs": [],
   "source": [
    "# Импортируем необходимые библиотеки:\n",
    "import random\n",
    "import time\n",
    "import requests # http-запросы,\n",
    "import re # регулярные выражения,\n",
    "from bs4 import BeautifulSoup # удаление тегов html,\n",
    "from tqdm import tqdm # красотуля для анализа прогресса."
   ]
  },
  {
   "cell_type": "code",
   "execution_count": 2,
   "metadata": {
    "collapsed": true
   },
   "outputs": [],
   "source": [
    "#список всех ссылок\n",
    "hrefs = []\n",
    "out = open(r\"/home/mi_air/Downloads/spisok_postnauka_hrefs.txt\",\"w\", encoding=\"utf-8\")"
   ]
  },
  {
   "cell_type": "code",
   "execution_count": 3,
   "metadata": {
    "collapsed": true
   },
   "outputs": [],
   "source": [
    "start = 72417\n",
    "faq = \"https://postnauka.ru/faq/\"\n",
    "special = \"https://postnauka.ru/specials/\""
   ]
  },
  {
   "cell_type": "code",
   "execution_count": 6,
   "metadata": {
    "collapsed": true
   },
   "outputs": [],
   "source": [
    "def getHref(link):\n",
    "    bl = 0\n",
    "    r = requests.get(link)\n",
    "    for line in r.text:\n",
    "        if '<link rel=\"image_src\" href=\"http://postnauka.ru/img/' in line:\n",
    "            bl+=1\n",
    "    return(bl)"
   ]
  },
  {
   "cell_type": "code",
   "execution_count": null,
   "metadata": {
    "collapsed": false
   },
   "outputs": [],
   "source": [
    "while start >25000:\n",
    "    link = faq + str(start)\n",
    "    if getHref(link)==1:\n",
    "        hrefs.append(link)\n",
    "    link2 = special + str(start)\n",
    "    if getHref(link2)==1:\n",
    "        hrefs.append(link2)\n",
    "    start -= 1"
   ]
  },
  {
   "cell_type": "code",
   "execution_count": 8,
   "metadata": {
    "collapsed": true
   },
   "outputs": [],
   "source": [
    "hrefs = list(set(hrefs))"
   ]
  },
  {
   "cell_type": "code",
   "execution_count": 9,
   "metadata": {
    "collapsed": true
   },
   "outputs": [],
   "source": [
    "for i in hrefs:\n",
    "    out.write(i+\"\\n\")"
   ]
  },
  {
   "cell_type": "code",
   "execution_count": null,
   "metadata": {
    "collapsed": true
   },
   "outputs": [],
   "source": []
  }
 ],
 "metadata": {
  "anaconda-cloud": {},
  "kernelspec": {
   "display_name": "Python [default]",
   "language": "python",
   "name": "python3"
  },
  "language_info": {
   "codemirror_mode": {
    "name": "ipython",
    "version": 3
   },
   "file_extension": ".py",
   "mimetype": "text/x-python",
   "name": "python",
   "nbconvert_exporter": "python",
   "pygments_lexer": "ipython3",
   "version": "3.5.2"
  }
 },
 "nbformat": 4,
 "nbformat_minor": 2
}
